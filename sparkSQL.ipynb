{
 "cells": [
  {
   "cell_type": "code",
   "execution_count": 20,
   "id": "3ca84cee",
   "metadata": {},
   "outputs": [],
   "source": [
    "from pyspark.sql import SparkSession\n",
    "from pyspark.sql.functions import *"
   ]
  },
  {
   "cell_type": "code",
   "execution_count": 21,
   "id": "e4fc2900",
   "metadata": {},
   "outputs": [],
   "source": [
    "spark = SparkSession.\\\n",
    "builder.\\\n",
    "appName(\"sparksql\").\\\n",
    "getOrCreate()"
   ]
  },
  {
   "cell_type": "code",
   "execution_count": 22,
   "id": "c4c2e3d7",
   "metadata": {},
   "outputs": [
    {
     "name": "stdout",
     "output_type": "stream",
     "text": [
      "3.5.0\n"
     ]
    }
   ],
   "source": [
    "print(spark.version)"
   ]
  },
  {
   "cell_type": "code",
   "execution_count": 23,
   "id": "065d78a4",
   "metadata": {},
   "outputs": [],
   "source": [
    "data = spark.read.format('csv').\\\n",
    "option('inferSchema', 'true').\\\n",
    "option('header', 'true').\\\n",
    "option('path', 'operations_management.csv').\\\n",
    "load()"
   ]
  },
  {
   "cell_type": "code",
   "execution_count": 24,
   "id": "b864b82d",
   "metadata": {},
   "outputs": [
    {
     "name": "stdout",
     "output_type": "stream",
     "text": [
      "root\n",
      " |-- description: string (nullable = true)\n",
      " |-- industry: string (nullable = true)\n",
      " |-- level: integer (nullable = true)\n",
      " |-- size: string (nullable = true)\n",
      " |-- line_code: string (nullable = true)\n",
      " |-- value: integer (nullable = true)\n",
      "\n"
     ]
    }
   ],
   "source": [
    "data.printSchema()"
   ]
  },
  {
   "cell_type": "code",
   "execution_count": 31,
   "id": "d2aecb87",
   "metadata": {},
   "outputs": [],
   "source": [
    "data_2 = data.select('industry', 'value').\\\n",
    "filter((col(\"value\") > 200) & (col(\"industry\") != \"total\")).\\\n",
    "orderBy(desc(\"value\"))"
   ]
  },
  {
   "cell_type": "code",
   "execution_count": 32,
   "id": "7d5260f6",
   "metadata": {},
   "outputs": [
    {
     "name": "stdout",
     "output_type": "stream",
     "text": [
      "root\n",
      " |-- industry: string (nullable = true)\n",
      " |-- value: integer (nullable = true)\n",
      "\n"
     ]
    }
   ],
   "source": [
    "data_2.printSchema()"
   ]
  },
  {
   "cell_type": "code",
   "execution_count": 33,
   "id": "64e90c66",
   "metadata": {},
   "outputs": [
    {
     "name": "stdout",
     "output_type": "stream",
     "text": [
      "+--------------------+-----+\n",
      "|            industry|value|\n",
      "+--------------------+-----+\n",
      "|        Construction| 6030|\n",
      "|        Construction| 5904|\n",
      "|        Construction| 5229|\n",
      "|Accommodation & f...| 5058|\n",
      "|        Construction| 4965|\n",
      "+--------------------+-----+\n",
      "only showing top 5 rows\n",
      "\n"
     ]
    }
   ],
   "source": [
    "data_2.show(5)"
   ]
  },
  {
   "cell_type": "code",
   "execution_count": 34,
   "id": "54d2431d",
   "metadata": {},
   "outputs": [],
   "source": [
    "data_2.createOrReplaceTempView(\"data\")"
   ]
  },
  {
   "cell_type": "code",
   "execution_count": 38,
   "id": "a58aa986",
   "metadata": {},
   "outputs": [
    {
     "name": "stdout",
     "output_type": "stream",
     "text": [
      "+--------------------+-----+\n",
      "|            industry|value|\n",
      "+--------------------+-----+\n",
      "|        Construction| 6030|\n",
      "|        Construction| 5904|\n",
      "|        Construction| 5229|\n",
      "|Accommodation & f...| 5058|\n",
      "|        Construction| 4965|\n",
      "+--------------------+-----+\n",
      "only showing top 5 rows\n",
      "\n"
     ]
    }
   ],
   "source": [
    "spark.sql(\"\"\"SELECT industry, value \n",
    "    FROM data \n",
    "    WHERE value > 200 \n",
    "    AND  industry != \"total\"\n",
    "    \"\"\").show(5)"
   ]
  },
  {
   "cell_type": "code",
   "execution_count": null,
   "id": "29e90e2b",
   "metadata": {},
   "outputs": [],
   "source": []
  }
 ],
 "metadata": {
  "kernelspec": {
   "display_name": "Python 3 (ipykernel)",
   "language": "python",
   "name": "python3"
  },
  "language_info": {
   "codemirror_mode": {
    "name": "ipython",
    "version": 3
   },
   "file_extension": ".py",
   "mimetype": "text/x-python",
   "name": "python",
   "nbconvert_exporter": "python",
   "pygments_lexer": "ipython3",
   "version": "3.11.5"
  }
 },
 "nbformat": 4,
 "nbformat_minor": 5
}
